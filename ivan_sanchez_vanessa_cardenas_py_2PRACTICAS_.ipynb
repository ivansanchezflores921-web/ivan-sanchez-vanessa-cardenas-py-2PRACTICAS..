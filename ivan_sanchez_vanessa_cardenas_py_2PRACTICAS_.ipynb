{
  "nbformat": 4,
  "nbformat_minor": 0,
  "metadata": {
    "colab": {
      "provenance": []
    },
    "kernelspec": {
      "name": "python3",
      "display_name": "Python 3"
    },
    "language_info": {
      "name": "python"
    }
  },
  "cells": [
    {
      "cell_type": "code",
      "execution_count": null,
      "metadata": {
        "colab": {
          "base_uri": "https://localhost:8080/"
        },
        "id": "2mJGAwQHHIBa",
        "outputId": "3e3f1cb5-1651-4c0b-d35e-30b3402ec061"
      },
      "outputs": [
        {
          "output_type": "stream",
          "name": "stdout",
          "text": [
            "Edad: 25 - Tipo: <class 'int'>\n",
            "Altura: 1.75 - Tipo: <class 'float'>\n",
            "Nombre completo: ariel camacho - Tipo: <class 'str'>\n"
          ]
        }
      ],
      "source": [
        "\n",
        "\n",
        "# Definimos las variables\n",
        "edad = 25  # int: número entero\n",
        "altura = 1.75  # float: número decimal\n",
        "nombre_completo = \"ariel camacho\"  # str: cadena de texto\n",
        "\n",
        "# Usamos la función type() para mostrar el tipo de dato de cada variable\n",
        "print(\"Edad:\", edad, \"- Tipo:\", type(edad))\n",
        "print(\"Altura:\", altura, \"- Tipo:\", type(altura))\n",
        "print(\"Nombre completo:\", nombre_completo, \"- Tipo:\", type(nombre_completo))\n"
      ]
    },
    {
      "cell_type": "code",
      "source": [],
      "metadata": {
        "id": "4958O0ppM5h0"
      },
      "execution_count": null,
      "outputs": []
    },
    {
      "cell_type": "code",
      "source": [
        "# Parte 2: Operaciones aritméticas\n",
        "\n",
        "# Precios de los productos\n",
        "producto1 = 125.50\n",
        "producto2 = 89.99\n",
        "producto3 = 39.75\n",
        "\n",
        "# 1. Calcular el total de la compra\n",
        "total_compra = producto1 + producto2 + producto3\n",
        "print(\"Total de la compra (sin descuento):\", total_compra)\n",
        "\n",
        "# 2. Aplicar un descuento del 15%\n",
        "descuento = total_compra * 0.15\n",
        "precio_con_descuento = total_compra - descuento\n",
        "print(\"Precio con 15% de descuento:\", precio_con_descuento)\n",
        "\n",
        "# 3. Calcular el IVA del 16% sobre el precio con descuento\n",
        "iva = precio_con_descuento * 0.16\n",
        "print(\"IVA (16%):\", iva)\n",
        "\n",
        "# 4. Calcular el total final a pagar\n",
        "total_final = precio_con_descuento + iva\n",
        "print(\"Total final a pagar:\", total_final)\n",
        "\n",
        "# Operador para obtener el residuo de una división\n",
        "# Se usa el operador módulo: %\n",
        "\n",
        "residuo = 125 % 12\n",
        "print(\"El residuo de dividir 125 entre 12 es:\", residuo)\n"
      ],
      "metadata": {
        "colab": {
          "base_uri": "https://localhost:8080/"
        },
        "id": "h4UrKxsqH4L8",
        "outputId": "2c528eee-058a-46c7-9985-5d840d44a197"
      },
      "execution_count": null,
      "outputs": [
        {
          "output_type": "stream",
          "name": "stdout",
          "text": [
            "Total de la compra (sin descuento): 255.24\n",
            "Precio con 15% de descuento: 216.954\n",
            "IVA (16%): 34.71264\n",
            "Total final a pagar: 251.66664\n",
            "El residuo de dividir 125 entre 12 es: 5\n"
          ]
        }
      ]
    },
    {
      "cell_type": "code",
      "source": [
        "# Parte 3: Operaciones relacionales\n",
        "\n",
        "# Variables previas\n",
        "edad = 25  # Puedes cambiar tu edad aquí\n",
        "producto1 = 125.50\n",
        "producto2 = 89.99\n",
        "producto3 = 39.75\n",
        "\n",
        "# Reutilizamos el total_final del cálculo anterior\n",
        "total_compra = producto1 + producto2 + producto3\n",
        "descuento = total_compra * 0.15\n",
        "precio_con_descuento = total_compra - descuento\n",
        "iva = precio_con_descuento * 0.16\n",
        "total_final = precio_con_descuento + iva\n",
        "\n",
        "# 1. Verificar si la edad es mayor a 18\n",
        "es_mayor_de_edad = edad > 18\n",
        "print(\"¿Eres mayor de 18 años?\", es_mayor_de_edad)\n",
        "\n",
        "# 2. Comprobar si el precio más alto es mayor que 100\n",
        "precio_mas_alto = max(producto1, producto2, producto3)\n",
        "es_mayor_que_100 = precio_mas_alto > 100\n",
        "print(\"¿El precio más alto es mayor que 100?\", es_mayor_que_100)\n",
        "\n",
        "# 3. Evaluar si el total final es menor o igual a 200\n",
        "total_menor_o_igual_200 = total_final <= 200\n",
        "print(\"¿El total final es menor o igual a 200?\", total_menor_o_igual_200)\n"
      ],
      "metadata": {
        "colab": {
          "base_uri": "https://localhost:8080/"
        },
        "id": "SG2l1EQbIivk",
        "outputId": "c983e8ff-5709-4d8b-c765-4835e4a57cf0"
      },
      "execution_count": null,
      "outputs": [
        {
          "output_type": "stream",
          "name": "stdout",
          "text": [
            "¿Eres mayor de 18 años? True\n",
            "¿El precio más alto es mayor que 100? True\n",
            "¿El total final es menor o igual a 200? False\n"
          ]
        }
      ]
    },
    {
      "cell_type": "code",
      "source": [
        "# Parte 4: Operaciones lógicas\n",
        "\n",
        "# Variables booleanas\n",
        "pago_tarjeta = True\n",
        "tiene_descuento = False\n",
        "\n",
        "# Evaluar si el cliente pagó con tarjeta y tiene descuento\n",
        "and_resultado = pago_tarjeta and tiene_descuento\n",
        "print(\"¿El cliente pagó con tarjeta Y tiene descuento?\", and_resultado)\n",
        "\n",
        "# Evaluar si el cliente pagó con tarjeta o tiene descuento\n",
        "or_resultado = pago_tarjeta or tiene_descuento\n",
        "print(\"¿El cliente pagó con tarjeta O tiene descuento?\", or_resultado)\n",
        "\n",
        "# Negar el valor de tiene_descuento\n",
        "not_resultado = not tiene_descuento\n",
        "print(\"Negación de tiene_descuento:\", not_resultado)\n"
      ],
      "metadata": {
        "colab": {
          "base_uri": "https://localhost:8080/"
        },
        "id": "uR6G3PQmJbA0",
        "outputId": "c83d96fb-9195-4583-db39-059da688c1c9"
      },
      "execution_count": null,
      "outputs": [
        {
          "output_type": "stream",
          "name": "stdout",
          "text": [
            "¿El cliente pagó con tarjeta Y tiene descuento? False\n",
            "¿El cliente pagó con tarjeta O tiene descuento? True\n",
            "Negación de tiene_descuento: True\n"
          ]
        }
      ]
    },
    {
      "cell_type": "code",
      "source": [
        "# Parte 5: Integración\n",
        "\n",
        "# Solicitar datos al usuario\n",
        "edad = input(\"Ingresa tu edad: \")\n",
        "altura = input(\"Ingresa tu altura en metros (ej. 1.75): \")\n",
        "monto_compra = input(\"Ingresa el monto de la compra: \")\n",
        "\n",
        "# Mostrar el tipo de dato ingresado (por defecto input() devuelve str)\n",
        "print(\"\\nTipos de datos ingresados:\")\n",
        "print(\"Edad:\", type(edad))\n",
        "print(\"Altura:\", type(altura))\n",
        "print(\"Monto de compra:\", type(monto_compra))\n",
        "\n",
        "# Convertir los datos a tipos apropiados\n",
        "edad_int = int(edad)\n",
        "altura_float = float(altura)\n",
        "# Remove the dollar sign before converting to float\n",
        "monto_compra_float = float(monto_compra.replace('$', ''))\n",
        "\n",
        "# Mostrar tipos después de conversión\n",
        "print(\"\\nTipos de datos después de la conversión:\")\n",
        "print(\"Edad:\", type(edad_int))\n",
        "print(\"Altura:\", type(altura_float))\n",
        "print(\"Monto de compra:\", type(monto_compra_float))\n",
        "\n",
        "# Verificar si el usuario es mayor de edad\n",
        "es_mayor_de_edad = edad_int > 18\n",
        "\n",
        "# Verificar si la compra excede los $500\n",
        "compra_excede_500 = monto_compra_float > 500\n",
        "\n",
        "# Verificar ambas condiciones juntas\n",
        "mayor_y_compra_grande = es_mayor_de_edad and compra_excede_500\n",
        "\n",
        "# Mostrar resultados\n",
        "print(\"\\nResultados:\")\n",
        "print(\"¿Eres mayor de edad?\", es_mayor_de_edad)\n",
        "print(\"¿La compra excede los $500?\", compra_excede_500)\n",
        "print(\"¿Eres mayor de edad Y la compra excede $500?\", mayor_y_compra_grande)"
      ],
      "metadata": {
        "colab": {
          "base_uri": "https://localhost:8080/"
        },
        "id": "MtGlU8kSJzC1",
        "outputId": "b85177c6-5ed7-419f-c332-c99e876bd3af"
      },
      "execution_count": null,
      "outputs": [
        {
          "output_type": "stream",
          "name": "stdout",
          "text": [
            "Ingresa tu edad: 19\n",
            "Ingresa tu altura en metros (ej. 1.75): 1.83\n",
            "Ingresa el monto de la compra: 777.50\n",
            "\n",
            "Tipos de datos ingresados:\n",
            "Edad: <class 'str'>\n",
            "Altura: <class 'str'>\n",
            "Monto de compra: <class 'str'>\n",
            "\n",
            "Tipos de datos después de la conversión:\n",
            "Edad: <class 'int'>\n",
            "Altura: <class 'float'>\n",
            "Monto de compra: <class 'float'>\n",
            "\n",
            "Resultados:\n",
            "¿Eres mayor de edad? True\n",
            "¿La compra excede los $500? True\n",
            "¿Eres mayor de edad Y la compra excede $500? True\n"
          ]
        }
      ]
    }
  ]
}