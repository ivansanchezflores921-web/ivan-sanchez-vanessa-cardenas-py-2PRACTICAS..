{
  "cells": [
    {
      "cell_type": "markdown",
      "metadata": {
        "id": "view-in-github",
        "colab_type": "text"
      },
      "source": [
        "<a href=\"https://colab.research.google.com/github/ivansanchezflores921-web/ivan-sanchez-vanessa-cardenas-py-2PRACTICAS../blob/main/Copia_de_Te_damos_la_bienvenida_a_Colab.ipynb\" target=\"_parent\"><img src=\"https://colab.research.google.com/assets/colab-badge.svg\" alt=\"Open In Colab\"/></a>"
      ]
    },
    {
      "cell_type": "code",
      "source": [
        "################### 1.CREACIÓN DE TUPLAS #####################\n",
        "tupla_vacia = ()\n",
        "\n",
        "################### 2.INSERTAR Y ACTUALIZAR #####################\n",
        "#Las tuplas no cuentan con métodos de inserción y actualización puesto que son inmutables, una vez creadas no se pueden cambiar.\n",
        "tupla_uno = ('Arturo','Lorenzo','Hernandez')\n",
        "tupla_dos = ('R2D2', 'Coder')\n",
        "\n",
        "################### 3.BORRADOS #####################\n",
        "del tupla_vacia #Borra una tupla de memoria, no se pueden hacer borrados por elemento.\n",
        "\n",
        "################### 4.OPERACIONES DE TUPLAS #####################\n",
        "tupla_tres = tupla_uno + tupla_dos #Unión de tuplas\n",
        "index_arturo = tupla_uno.index('Arturo') #Devuelve el indice de la primera aparición de ese elemento, en este caso, devuelve 0.\n",
        "count_coder = tupla_uno.count('Coder') #Devuelve el número de aparaciones del elemento que se pasa por parámetro, en este caso, devuelve 1\n",
        "\n",
        "################### 5.ACCESO A LOS TUPLAS #####################\n",
        "\n",
        "# Acceso de forma indexada\n",
        "print(tupla_uno[0])\n",
        "\n",
        "# Acceso con intervalos de elementos\n",
        "print(tupla_uno[1:3])\n",
        "\n",
        "# Acceso con bucle for\n",
        "for elemento in tupla_tres:\n",
        "    print(elemento)"
      ],
      "metadata": {
        "colab": {
          "base_uri": "https://localhost:8080/"
        },
        "id": "TnEsiCeoUFOA",
        "outputId": "02b8fa7b-651b-4893-9145-1a0c7af9a4e4"
      },
      "execution_count": 1,
      "outputs": [
        {
          "output_type": "stream",
          "name": "stdout",
          "text": [
            "Arturo\n",
            "('Lorenzo', 'Hernandez')\n",
            "Arturo\n",
            "Lorenzo\n",
            "Hernandez\n",
            "R2D2\n",
            "Coder\n"
          ]
        }
      ]
    },
    {
      "cell_type": "code",
      "source": [
        "tupla_vacia"
      ],
      "metadata": {
        "colab": {
          "base_uri": "https://localhost:8080/"
        },
        "id": "r-zFYdbgOjAi",
        "outputId": "9a89ea57-a8ef-40b6-c2ac-a4fb1a773b8b"
      },
      "execution_count": null,
      "outputs": [
        {
          "output_type": "execute_result",
          "data": {
            "text/plain": [
              "()"
            ]
          },
          "metadata": {},
          "execution_count": 2
        }
      ]
    },
    {
      "cell_type": "code",
      "source": [],
      "metadata": {
        "id": "N7W3SyNdUEbP"
      },
      "execution_count": null,
      "outputs": []
    },
    {
      "cell_type": "code",
      "source": [
        "tupla_uno"
      ],
      "metadata": {
        "colab": {
          "base_uri": "https://localhost:8080/"
        },
        "id": "sCR0kee5OnzH",
        "outputId": "942b2b58-b763-418c-e334-6270bcf1b79e"
      },
      "execution_count": null,
      "outputs": [
        {
          "output_type": "execute_result",
          "data": {
            "text/plain": [
              "('Arturo', 'Lorenzo', 'Hernandez')"
            ]
          },
          "metadata": {},
          "execution_count": 3
        }
      ]
    },
    {
      "cell_type": "code",
      "source": [
        "tupla_dos"
      ],
      "metadata": {
        "colab": {
          "base_uri": "https://localhost:8080/"
        },
        "id": "d84s_5xxOvJB",
        "outputId": "11c63109-0e33-498c-efaa-f43c95f6e4ee"
      },
      "execution_count": null,
      "outputs": [
        {
          "output_type": "execute_result",
          "data": {
            "text/plain": [
              "('R2D2', 'Coder')"
            ]
          },
          "metadata": {},
          "execution_count": 4
        }
      ]
    },
    {
      "cell_type": "code",
      "source": [
        "tupla_tres"
      ],
      "metadata": {
        "colab": {
          "base_uri": "https://localhost:8080/"
        },
        "id": "mm1ZyzJOOyYo",
        "outputId": "692ca0a3-2a23-4256-bfc0-417a65f7941f"
      },
      "execution_count": null,
      "outputs": [
        {
          "output_type": "execute_result",
          "data": {
            "text/plain": [
              "('Arturo', 'Lorenzo', 'Hernandez', 'R2D2', 'Coder')"
            ]
          },
          "metadata": {},
          "execution_count": 7
        }
      ]
    },
    {
      "cell_type": "code",
      "source": [
        "index_arturo"
      ],
      "metadata": {
        "colab": {
          "base_uri": "https://localhost:8080/"
        },
        "id": "m9WrYjHyO5wR",
        "outputId": "c5bfb653-ec43-462d-822f-ad8c9b656b6b"
      },
      "execution_count": null,
      "outputs": [
        {
          "output_type": "execute_result",
          "data": {
            "text/plain": [
              "0"
            ]
          },
          "metadata": {},
          "execution_count": 8
        }
      ]
    },
    {
      "cell_type": "code",
      "source": [
        "count_coder"
      ],
      "metadata": {
        "colab": {
          "base_uri": "https://localhost:8080/"
        },
        "id": "x8VQHIQoPETZ",
        "outputId": "86ebdb07-ac6c-40f3-b258-85dc058273b2"
      },
      "execution_count": null,
      "outputs": [
        {
          "output_type": "execute_result",
          "data": {
            "text/plain": [
              "0"
            ]
          },
          "metadata": {},
          "execution_count": 9
        }
      ]
    },
    {
      "cell_type": "code",
      "source": [
        "print(tupla_uno[0])"
      ],
      "metadata": {
        "colab": {
          "base_uri": "https://localhost:8080/"
        },
        "id": "M3P9FjF9PJ1n",
        "outputId": "3d922527-3cf5-45bf-b06b-a3721716a45a"
      },
      "execution_count": null,
      "outputs": [
        {
          "output_type": "stream",
          "name": "stdout",
          "text": [
            "Arturo\n"
          ]
        }
      ]
    },
    {
      "cell_type": "code",
      "source": [
        "print(tupla_uno[1:3])"
      ],
      "metadata": {
        "colab": {
          "base_uri": "https://localhost:8080/"
        },
        "id": "Qx7HbI03PTOw",
        "outputId": "fcbb2230-5fba-44f6-d5f1-c6695530945d"
      },
      "execution_count": null,
      "outputs": [
        {
          "output_type": "stream",
          "name": "stdout",
          "text": [
            "('Lorenzo', 'Hernandez')\n"
          ]
        }
      ]
    },
    {
      "cell_type": "code",
      "source": [
        "################### 1.CREACIÓN Y ACCESO DE DICCIONARIOS #####################\n",
        "\n",
        "\n",
        "diccionario = dict()\n",
        "\n",
        "diccionario = dict([(\"clave1\", \"valor1\"), (\"clave2\", \"valor2\")])\n",
        "\n",
        "tecnologias = {'Web': ['Javascript', 'Html', 'CSS'], 'Videojuegos' : ['Unity', 'C#']}\n",
        "\n",
        "\n",
        "################### 2.INSERCION Y ACTUALIZACION EN DICCIONARIOS #####################\n",
        "\n",
        "tecnologias['Data engineer'] = ['Python', 'Hadoop']\n",
        "tecnologias.update({'Desarrollo Movil': ['Android', 'IOS']})\n",
        "tecnologias['Web'].append('Angular')\n",
        "tecnologias['Web'] = []\n",
        "tecnologias.update({'Web': ['NodeJS']})\n",
        "\n",
        "################### 3.BORRADOS DE ELEMENTOS EN DICCIONARIOS #####################\n",
        "\n",
        "valor_borrado = tecnologias.pop('Data engineer')\n",
        "\n",
        "################### 4.ACCESO A ELEMENTOS EN DICCIONARIOS #####################\n",
        "\n",
        "\n",
        "tecnologias_web = tecnologias.get('Web','No existe la clave Web')\n",
        "tecnologias_items = tecnologias.items()\n",
        "tecnologia_keys = tecnologias.keys()\n",
        "\n",
        "for key, value in tecnologias.items():\n",
        "    print(f\"La clave {key} está asociado al valor {value}\")"
      ],
      "metadata": {
        "colab": {
          "base_uri": "https://localhost:8080/"
        },
        "id": "RDUXcNZqPZXA",
        "outputId": "0ac6b9aa-8bad-4c15-9537-ae11423a92de"
      },
      "execution_count": null,
      "outputs": [
        {
          "output_type": "stream",
          "name": "stdout",
          "text": [
            "La clave Web está asociado al valor ['NodeJS']\n",
            "La clave Videojuegos está asociado al valor ['Unity', 'C#']\n",
            "La clave Desarrollo Movil está asociado al valor ['Android', 'IOS']\n"
          ]
        }
      ]
    },
    {
      "cell_type": "code",
      "source": [
        "diccionario"
      ],
      "metadata": {
        "colab": {
          "base_uri": "https://localhost:8080/"
        },
        "id": "8j4zzTM_QNsI",
        "outputId": "8b607df0-3a49-4017-de20-3bfcf620d767"
      },
      "execution_count": null,
      "outputs": [
        {
          "output_type": "execute_result",
          "data": {
            "text/plain": [
              "{'clave1': 'valor1', 'clave2': 'valor2'}"
            ]
          },
          "metadata": {},
          "execution_count": 14
        }
      ]
    },
    {
      "cell_type": "code",
      "source": [
        "tecnologias"
      ],
      "metadata": {
        "colab": {
          "base_uri": "https://localhost:8080/"
        },
        "id": "KVxaTQLxQPAg",
        "outputId": "89633395-a96d-4b29-fc81-c9549b9f236a"
      },
      "execution_count": null,
      "outputs": [
        {
          "output_type": "execute_result",
          "data": {
            "text/plain": [
              "{'Web': ['NodeJS'],\n",
              " 'Videojuegos': ['Unity', 'C#'],\n",
              " 'Desarrollo Movil': ['Android', 'IOS']}"
            ]
          },
          "metadata": {},
          "execution_count": 15
        }
      ]
    },
    {
      "cell_type": "code",
      "source": [
        "valor_borrado"
      ],
      "metadata": {
        "colab": {
          "base_uri": "https://localhost:8080/"
        },
        "id": "P-um1KhxQRsA",
        "outputId": "5d133054-52f8-4486-e3ad-19b1d436e332"
      },
      "execution_count": null,
      "outputs": [
        {
          "output_type": "execute_result",
          "data": {
            "text/plain": [
              "['Python', 'Hadoop']"
            ]
          },
          "metadata": {},
          "execution_count": 16
        }
      ]
    },
    {
      "cell_type": "code",
      "source": [
        "tecnologias_web"
      ],
      "metadata": {
        "colab": {
          "base_uri": "https://localhost:8080/"
        },
        "id": "GYJOXkp9QYIw",
        "outputId": "4c516eee-5783-4654-9a83-f33d6f50554e"
      },
      "execution_count": null,
      "outputs": [
        {
          "output_type": "execute_result",
          "data": {
            "text/plain": [
              "['NodeJS']"
            ]
          },
          "metadata": {},
          "execution_count": 19
        }
      ]
    },
    {
      "cell_type": "code",
      "source": [
        "tecnologias_items"
      ],
      "metadata": {
        "colab": {
          "base_uri": "https://localhost:8080/"
        },
        "id": "O-2WEqWgQacA",
        "outputId": "4fccf42a-b4a3-4498-cb30-14228da3fcfb"
      },
      "execution_count": null,
      "outputs": [
        {
          "output_type": "execute_result",
          "data": {
            "text/plain": [
              "dict_items([('Web', ['NodeJS']), ('Videojuegos', ['Unity', 'C#']), ('Desarrollo Movil', ['Android', 'IOS'])])"
            ]
          },
          "metadata": {},
          "execution_count": 20
        }
      ]
    },
    {
      "cell_type": "code",
      "source": [
        "tecnologia_keys"
      ],
      "metadata": {
        "colab": {
          "base_uri": "https://localhost:8080/"
        },
        "id": "PwF57kmiQkbC",
        "outputId": "e1c5f0c3-d36e-4522-fa5a-d3b9d1fae176"
      },
      "execution_count": null,
      "outputs": [
        {
          "output_type": "execute_result",
          "data": {
            "text/plain": [
              "dict_keys(['Web', 'Videojuegos', 'Desarrollo Movil'])"
            ]
          },
          "metadata": {},
          "execution_count": 21
        }
      ]
    },
    {
      "cell_type": "code",
      "source": [
        "################### 1.CREACIÓN DE SETS #####################\n",
        "\n",
        "# 1. set vacío\n",
        "nuevo_set = set()\n",
        "\n",
        "\n",
        "# 2. Inicializar un set con elementos\n",
        "nuevo_set = {'uno', 'dos'}\n",
        "\n",
        "\n",
        "# 3. Agregar un elemento\n",
        "\n",
        "\n",
        "################### 2.INSERTAR Y ACTUALIZAR ####################\n",
        "nuevo_set.update({'dos', 'tres'})\n",
        "copia_set = nuevo_set.copy()\n",
        "################### 3.BORRADOS #####################\n",
        "copia_set.discard('dos')\n",
        "\n",
        "################### 4.OPERACIONES DE SETS #####################\n",
        "\n",
        "\n",
        "################### 5.ACCESO A LOS SETS #####################\n",
        "\n",
        "#No hay una forma de acceder de forma indexada"
      ],
      "metadata": {
        "id": "P5cmoIF0RLFz"
      },
      "execution_count": null,
      "outputs": []
    },
    {
      "cell_type": "code",
      "source": [
        "copia_set"
      ],
      "metadata": {
        "colab": {
          "base_uri": "https://localhost:8080/"
        },
        "id": "Hw34kdbiRNLz",
        "outputId": "c538882a-dadd-42a2-e289-1a5961a51ebc"
      },
      "execution_count": null,
      "outputs": [
        {
          "output_type": "execute_result",
          "data": {
            "text/plain": [
              "{'tres', 'uno'}"
            ]
          },
          "metadata": {},
          "execution_count": 24
        }
      ]
    },
    {
      "cell_type": "code",
      "source": [
        "copia_set.discard('dos')"
      ],
      "metadata": {
        "id": "FiikGmH2RSQL"
      },
      "execution_count": null,
      "outputs": []
    },
    {
      "cell_type": "code",
      "source": [
        "nuevo_set"
      ],
      "metadata": {
        "colab": {
          "base_uri": "https://localhost:8080/"
        },
        "id": "hJkAKuCwRaCx",
        "outputId": "5fc82877-6f55-43ea-ebc5-6903650221db"
      },
      "execution_count": null,
      "outputs": [
        {
          "output_type": "execute_result",
          "data": {
            "text/plain": [
              "{'dos', 'tres', 'uno'}"
            ]
          },
          "metadata": {},
          "execution_count": 26
        }
      ]
    },
    {
      "cell_type": "code",
      "source": [
        "nuevo_set"
      ],
      "metadata": {
        "colab": {
          "base_uri": "https://localhost:8080/"
        },
        "id": "1uRtaVDzRdBZ",
        "outputId": "63424c45-92d6-4385-b246-16d1a056d3eb"
      },
      "execution_count": null,
      "outputs": [
        {
          "output_type": "execute_result",
          "data": {
            "text/plain": [
              "{'dos', 'tres', 'uno'}"
            ]
          },
          "metadata": {},
          "execution_count": 27
        }
      ]
    },
    {
      "cell_type": "code",
      "source": [
        "nuevo_set"
      ],
      "metadata": {
        "colab": {
          "base_uri": "https://localhost:8080/"
        },
        "id": "m4YNeaK2RfIx",
        "outputId": "8dc23353-1368-470e-ee62-ee346c78fd66"
      },
      "execution_count": null,
      "outputs": [
        {
          "output_type": "execute_result",
          "data": {
            "text/plain": [
              "{'dos', 'tres', 'uno'}"
            ]
          },
          "metadata": {},
          "execution_count": 28
        }
      ]
    },
    {
      "cell_type": "code",
      "source": [
        "################### 1.CREACIÓN DE LISTAS #####################\n",
        "\n",
        "# 1. Lista vacía\n",
        "lista_vacia = []\n",
        "lista_vacia = list()\n",
        "# 2. Lista con elementos\n",
        "motocicletas = ['honda', 'yamaha', 'suzuki','honda']\n",
        "\n",
        "################### 2.INSERCIONES Y ACTUALIZACIONES #####################\n",
        "\n",
        "motocicletas.append('ducati')\n",
        "motocicletas.insert(0, 'daelim')\n",
        "motocicletas[1] = 'bmw'\n",
        "\n",
        "################### 3.BORRADOS #####################\n",
        "\n",
        "elemento_cero = motocicletas.pop(0)\n",
        "ultimo_elemento = motocicletas.pop()\n",
        "motocicletas.remove('yamaha')\n",
        "motocicletas.clear()\n",
        "\n",
        "while 'honda' in motocicletas:\n",
        "    motocicletas.remove('honda')\n",
        "\n",
        "################# 4.ACCESO A LAS LISTAS ######################\n",
        "\n",
        "\n",
        "\n",
        "numeros = [1,2,3,4,5]\n",
        "\n",
        "primer_elemento = numeros[0]\n",
        "dos_primeros_elementos = numeros[0:2]\n",
        "ultimo_elemento = numeros[-1]\n",
        "dos_ultimos_elementos = numeros[-2:]"
      ],
      "metadata": {
        "id": "CWydnGXPRgsR"
      },
      "execution_count": null,
      "outputs": []
    },
    {
      "cell_type": "code",
      "source": [
        "ultimo_elemento"
      ],
      "metadata": {
        "colab": {
          "base_uri": "https://localhost:8080/"
        },
        "id": "EjNG6xKSTZEf",
        "outputId": "9616c33f-75da-47ab-a7e6-bd99bc5f3c22"
      },
      "execution_count": null,
      "outputs": [
        {
          "output_type": "execute_result",
          "data": {
            "text/plain": [
              "5"
            ]
          },
          "metadata": {},
          "execution_count": 43
        }
      ]
    },
    {
      "cell_type": "code",
      "source": [
        "dos_ultimos_elementos"
      ],
      "metadata": {
        "colab": {
          "base_uri": "https://localhost:8080/"
        },
        "id": "hbQn0_YGTau_",
        "outputId": "701e5bf8-c2eb-46ca-878d-df98f9ff6e63"
      },
      "execution_count": null,
      "outputs": [
        {
          "output_type": "execute_result",
          "data": {
            "text/plain": [
              "[4, 5]"
            ]
          },
          "metadata": {},
          "execution_count": 44
        }
      ]
    },
    {
      "cell_type": "code",
      "source": [
        "dos_primeros_elementos"
      ],
      "metadata": {
        "colab": {
          "base_uri": "https://localhost:8080/"
        },
        "id": "a_d1Ka0-TVm3",
        "outputId": "f87b123b-7fa8-403a-a920-3739ecf36f6e"
      },
      "execution_count": null,
      "outputs": [
        {
          "output_type": "execute_result",
          "data": {
            "text/plain": [
              "[1, 2]"
            ]
          },
          "metadata": {},
          "execution_count": 42
        }
      ]
    },
    {
      "cell_type": "code",
      "source": [
        "primer_elemento\n"
      ],
      "metadata": {
        "colab": {
          "base_uri": "https://localhost:8080/"
        },
        "id": "HkjJnoYpTSz_",
        "outputId": "63eed207-4633-494a-8f64-20bcb307a67c"
      },
      "execution_count": null,
      "outputs": [
        {
          "output_type": "execute_result",
          "data": {
            "text/plain": [
              "1"
            ]
          },
          "metadata": {},
          "execution_count": 41
        }
      ]
    },
    {
      "cell_type": "code",
      "source": [
        "numeros"
      ],
      "metadata": {
        "colab": {
          "base_uri": "https://localhost:8080/"
        },
        "id": "byMajO1STM_X",
        "outputId": "2d6091fa-f23e-42e0-d572-0b77a91ab483"
      },
      "execution_count": null,
      "outputs": [
        {
          "output_type": "execute_result",
          "data": {
            "text/plain": [
              "[1, 2, 3, 4, 5]"
            ]
          },
          "metadata": {},
          "execution_count": 40
        }
      ]
    },
    {
      "cell_type": "code",
      "source": [
        "motocicletas.remove"
      ],
      "metadata": {
        "colab": {
          "base_uri": "https://localhost:8080/"
        },
        "id": "Hl9MQ9FwTGZJ",
        "outputId": "6f9afd29-e393-4079-d22d-ea34f870538a"
      },
      "execution_count": null,
      "outputs": [
        {
          "output_type": "execute_result",
          "data": {
            "text/plain": [
              "<function list.remove(value, /)>"
            ]
          },
          "metadata": {},
          "execution_count": 39
        }
      ]
    },
    {
      "cell_type": "code",
      "source": [
        "lista_vacia"
      ],
      "metadata": {
        "colab": {
          "base_uri": "https://localhost:8080/"
        },
        "id": "Gqc20hHwSWuW",
        "outputId": "ea2b407b-9c49-4975-f27a-2b82330bfc75"
      },
      "execution_count": null,
      "outputs": [
        {
          "output_type": "execute_result",
          "data": {
            "text/plain": [
              "[]"
            ]
          },
          "metadata": {},
          "execution_count": 30
        }
      ]
    },
    {
      "cell_type": "code",
      "source": [
        "motocicletas"
      ],
      "metadata": {
        "colab": {
          "base_uri": "https://localhost:8080/"
        },
        "id": "TrTP2mHTSZOm",
        "outputId": "e9a3707c-8af6-420b-ed30-d1eba4ac6971"
      },
      "execution_count": null,
      "outputs": [
        {
          "output_type": "execute_result",
          "data": {
            "text/plain": [
              "[]"
            ]
          },
          "metadata": {},
          "execution_count": 31
        }
      ]
    },
    {
      "cell_type": "code",
      "source": [
        "motocicletas.append"
      ],
      "metadata": {
        "colab": {
          "base_uri": "https://localhost:8080/"
        },
        "id": "g_he0aTRSbU-",
        "outputId": "d5ddb647-0184-4a76-8089-c1f29d13a280"
      },
      "execution_count": null,
      "outputs": [
        {
          "output_type": "execute_result",
          "data": {
            "text/plain": [
              "<function list.append(object, /)>"
            ]
          },
          "metadata": {},
          "execution_count": 32
        }
      ]
    },
    {
      "cell_type": "code",
      "source": [
        "motocicletas.insert"
      ],
      "metadata": {
        "colab": {
          "base_uri": "https://localhost:8080/"
        },
        "id": "2TYudF1gSkI2",
        "outputId": "23f8d3d6-64d9-40df-e8da-972efb5c1b93"
      },
      "execution_count": null,
      "outputs": [
        {
          "output_type": "execute_result",
          "data": {
            "text/plain": [
              "<function list.insert(index, object, /)>"
            ]
          },
          "metadata": {},
          "execution_count": 33
        }
      ]
    },
    {
      "cell_type": "code",
      "source": [
        "motocicletas"
      ],
      "metadata": {
        "colab": {
          "base_uri": "https://localhost:8080/"
        },
        "id": "I-Qs7ZFhSonu",
        "outputId": "ee25c775-e79e-4ec8-f65e-d32ffe01fbee"
      },
      "execution_count": null,
      "outputs": [
        {
          "output_type": "execute_result",
          "data": {
            "text/plain": [
              "[]"
            ]
          },
          "metadata": {},
          "execution_count": 34
        }
      ]
    },
    {
      "cell_type": "code",
      "source": [
        "elemento_cero"
      ],
      "metadata": {
        "colab": {
          "base_uri": "https://localhost:8080/",
          "height": 35
        },
        "id": "4ADZF_9hStEG",
        "outputId": "1b8341c2-c077-444b-8694-3c4ce70f53fd"
      },
      "execution_count": null,
      "outputs": [
        {
          "output_type": "execute_result",
          "data": {
            "text/plain": [
              "'daelim'"
            ],
            "application/vnd.google.colaboratory.intrinsic+json": {
              "type": "string"
            }
          },
          "metadata": {},
          "execution_count": 35
        }
      ]
    },
    {
      "cell_type": "code",
      "source": [
        "ultimo_elemento"
      ],
      "metadata": {
        "colab": {
          "base_uri": "https://localhost:8080/"
        },
        "id": "dvMlRa6WSxGe",
        "outputId": "78a3256a-07cc-4e17-92ad-7130b3fa3750"
      },
      "execution_count": null,
      "outputs": [
        {
          "output_type": "execute_result",
          "data": {
            "text/plain": [
              "5"
            ]
          },
          "metadata": {},
          "execution_count": 36
        }
      ]
    },
    {
      "cell_type": "code",
      "source": [
        "motocicletas.remove"
      ],
      "metadata": {
        "colab": {
          "base_uri": "https://localhost:8080/"
        },
        "id": "4A7jeSupS1BH",
        "outputId": "dde02b2a-e1f6-4ab2-9004-5aeea185f0e7"
      },
      "execution_count": null,
      "outputs": [
        {
          "output_type": "execute_result",
          "data": {
            "text/plain": [
              "<function list.remove(value, /)>"
            ]
          },
          "metadata": {},
          "execution_count": 37
        }
      ]
    },
    {
      "cell_type": "code",
      "source": [
        "motocicletas.clear"
      ],
      "metadata": {
        "colab": {
          "base_uri": "https://localhost:8080/"
        },
        "id": "BNyYGf-HS4Ym",
        "outputId": "f2300e56-a776-49af-86c7-e8c4263e0e6d"
      },
      "execution_count": null,
      "outputs": [
        {
          "output_type": "execute_result",
          "data": {
            "text/plain": [
              "<function list.clear()>"
            ]
          },
          "metadata": {},
          "execution_count": 38
        }
      ]
    }
  ],
  "metadata": {
    "colab": {
      "toc_visible": true,
      "provenance": [],
      "include_colab_link": true
    },
    "kernelspec": {
      "display_name": "Python 3",
      "name": "python3"
    }
  },
  "nbformat": 4,
  "nbformat_minor": 0
}